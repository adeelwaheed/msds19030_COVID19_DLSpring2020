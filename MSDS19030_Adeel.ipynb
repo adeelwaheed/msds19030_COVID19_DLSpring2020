{
  "nbformat": 4,
  "nbformat_minor": 0,
  "metadata": {
    "colab": {
      "name": "Untitled0 (2).ipynb",
      "provenance": [],
      "collapsed_sections": [
        "-3ucBm1h32jD",
        "WCwt6yuWr1a0",
        "yOrZM4aptuPp",
        "jPCpcfrbt4Df",
        "HbjTM365uNES"
      ],
      "machine_shape": "hm"
    },
    "kernelspec": {
      "name": "python3",
      "display_name": "Python 3"
    },
    "accelerator": "GPU"
  },
  "cells": [
    {
      "cell_type": "code",
      "metadata": {
        "id": "xxw-0oRermKm",
        "colab_type": "code",
        "colab": {}
      },
      "source": [
        "import glob\n",
        "import torch \n",
        "import torchvision\n",
        "import numpy as np\n",
        "from torchvision import datasets, models, transforms\n",
        "from torch.utils.data import Dataset, DataLoader\n",
        "import matplotlib.image as img\n",
        "import matplotlib.pyplot as plt\n",
        "import torch.nn as nn\n",
        "import torch.nn.functional as F\n",
        "import torch.optim as optim\n",
        "from tqdm import tqdm"
      ],
      "execution_count": 0,
      "outputs": []
    },
    {
      "cell_type": "code",
      "metadata": {
        "id": "GN8HednfPvKP",
        "colab_type": "code",
        "outputId": "989171a9-4758-4355-dc5a-93f13ae11da4",
        "colab": {
          "base_uri": "https://localhost:8080/",
          "height": 34
        }
      },
      "source": [
        "from google.colab import drive\n",
        "drive.mount(\"./gdrive\")"
      ],
      "execution_count": 2,
      "outputs": [
        {
          "output_type": "stream",
          "text": [
            "Drive already mounted at ./gdrive; to attempt to forcibly remount, call drive.mount(\"./gdrive\", force_remount=True).\n"
          ],
          "name": "stdout"
        }
      ]
    },
    {
      "cell_type": "code",
      "metadata": {
        "id": "HGG4VuJOPx5B",
        "colab_type": "code",
        "outputId": "c1443cdb-0b73-43e8-8125-64ee44c66a0d",
        "colab": {
          "base_uri": "https://localhost:8080/",
          "height": 34
        }
      },
      "source": [
        "import os \n",
        "os.getcwd()"
      ],
      "execution_count": 3,
      "outputs": [
        {
          "output_type": "execute_result",
          "data": {
            "text/plain": [
              "'/content'"
            ]
          },
          "metadata": {
            "tags": []
          },
          "execution_count": 3
        }
      ]
    },
    {
      "cell_type": "code",
      "metadata": {
        "id": "v-l1NFicNv78",
        "colab_type": "code",
        "outputId": "79091d64-cf7b-46fc-d0c4-8c540e471ec8",
        "colab": {
          "base_uri": "https://localhost:8080/",
          "height": 34
        }
      },
      "source": [
        "%cd './gdrive/My Drive/Assignment 5 Dataset'"
      ],
      "execution_count": 4,
      "outputs": [
        {
          "output_type": "stream",
          "text": [
            "/content/gdrive/My Drive/Assignment 5 Dataset\n"
          ],
          "name": "stdout"
        }
      ]
    },
    {
      "cell_type": "code",
      "metadata": {
        "id": "kBAH-kXXQG4d",
        "colab_type": "code",
        "colab": {}
      },
      "source": [
        "#Transformations such normalization are necessary sometimes and should be applied to datasets\n",
        "#Train and test set may require different set of tranforms\n",
        "train_transform = transforms.Compose([transforms.RandomRotation(30),\n",
        "                                       transforms.RandomResizedCrop(224),\n",
        "                                       transforms.RandomHorizontalFlip(),\n",
        "                                       transforms.ToTensor(),\n",
        "                                       transforms.Normalize([0.485, 0.456, 0.406],\n",
        "                                                            [0.229, 0.224, 0.225])])\n",
        "\n",
        "test_transform = transforms.Compose([transforms.Resize(256),\n",
        "                                      transforms.CenterCrop(224),\n",
        "                                      transforms.ToTensor(),\n",
        "                                      transforms.Normalize([0.485, 0.456, 0.406],\n",
        "                                                            [0.229, 0.224, 0.225])])\n",
        "\n",
        "#other transformation that you can use\n",
        "#transforms.RandomRotation(angle in degrees)\n",
        "#transforms.Resize((w, h))\n",
        "#transforms.CenterCrop(size)\n",
        "# color jittering and many more\n",
        "# for more details please check https://pytorch.org/docs/stable/torchvision/transforms.html\n",
        "\n",
        "#The output of torchvision datasets are PILImage images of range [0, 1]. \n",
        "#We transform them to Tensors of normalized range [-1, 1].\n"
      ],
      "execution_count": 0,
      "outputs": []
    },
    {
      "cell_type": "markdown",
      "metadata": {
        "id": "BDqgJcS4VZK2",
        "colab_type": "text"
      },
      "source": [
        "# **Train Loader**"
      ]
    },
    {
      "cell_type": "code",
      "metadata": {
        "id": "rU8Lo6s_S3Pm",
        "colab_type": "code",
        "outputId": "c982209f-2a77-46a0-feda-1a2d7c1c46dd",
        "colab": {
          "base_uri": "https://localhost:8080/",
          "height": 221
        }
      },
      "source": [
        "data_dir = '/content/gdrive/My Drive/Assignment 5 Dataset'\n",
        "train_dataset = datasets.ImageFolder(data_dir+'/train', transform=train_transform)\n",
        "print(train_dataset)\n",
        "covid_train = torch.utils.data.DataLoader(train_dataset, batch_size=32, \n",
        "                                        shuffle=True, num_workers=8)\n",
        "classes = train_dataset.classes\n",
        "print(classes)"
      ],
      "execution_count": 6,
      "outputs": [
        {
          "output_type": "stream",
          "text": [
            "Dataset ImageFolder\n",
            "    Number of datapoints: 12000\n",
            "    Root location: /content/gdrive/My Drive/Assignment 5 Dataset/train\n",
            "    StandardTransform\n",
            "Transform: Compose(\n",
            "               RandomRotation(degrees=(-30, 30), resample=False, expand=False)\n",
            "               RandomResizedCrop(size=(224, 224), scale=(0.08, 1.0), ratio=(0.75, 1.3333), interpolation=PIL.Image.BILINEAR)\n",
            "               RandomHorizontalFlip(p=0.5)\n",
            "               ToTensor()\n",
            "               Normalize(mean=[0.485, 0.456, 0.406], std=[0.229, 0.224, 0.225])\n",
            "           )\n",
            "['infected', 'normal']\n"
          ],
          "name": "stdout"
        }
      ]
    },
    {
      "cell_type": "markdown",
      "metadata": {
        "id": "aZworxqwVgG1",
        "colab_type": "text"
      },
      "source": [
        "# **Validation Loader**"
      ]
    },
    {
      "cell_type": "code",
      "metadata": {
        "id": "vDijh5osVoFk",
        "colab_type": "code",
        "outputId": "c69ab8d4-9042-4e29-8405-fdac51fd9554",
        "colab": {
          "base_uri": "https://localhost:8080/",
          "height": 204
        }
      },
      "source": [
        "val_dataset = datasets.ImageFolder(data_dir+'/validation', transform=test_transform)\n",
        "print(val_dataset)\n",
        "covid_valid = torch.utils.data.DataLoader(val_dataset, batch_size=32, \n",
        "                                        shuffle=True, num_workers=8)\n",
        "classes = val_dataset.classes\n",
        "print(classes)"
      ],
      "execution_count": 7,
      "outputs": [
        {
          "output_type": "stream",
          "text": [
            "Dataset ImageFolder\n",
            "    Number of datapoints: 1500\n",
            "    Root location: /content/gdrive/My Drive/Assignment 5 Dataset/validation\n",
            "    StandardTransform\n",
            "Transform: Compose(\n",
            "               Resize(size=256, interpolation=PIL.Image.BILINEAR)\n",
            "               CenterCrop(size=(224, 224))\n",
            "               ToTensor()\n",
            "               Normalize(mean=[0.485, 0.456, 0.406], std=[0.229, 0.224, 0.225])\n",
            "           )\n",
            "['infected', 'normal']\n"
          ],
          "name": "stdout"
        }
      ]
    },
    {
      "cell_type": "code",
      "metadata": {
        "id": "7AsciKZ5VsHh",
        "colab_type": "code",
        "outputId": "da39000f-8a1c-4277-d2ad-7d7c03f68941",
        "colab": {
          "base_uri": "https://localhost:8080/",
          "height": 67
        }
      },
      "source": [
        "data_iter = iter(covid_train)\n",
        "image_, label = data_iter.next()\n",
        "print(image_.shape)\n",
        "print(label)"
      ],
      "execution_count": 0,
      "outputs": [
        {
          "output_type": "stream",
          "text": [
            "torch.Size([32, 3, 224, 224])\n",
            "tensor([0, 0, 1, 1, 1, 1, 1, 1, 0, 0, 1, 0, 1, 1, 1, 0, 1, 0, 1, 0, 1, 0, 1, 0,\n",
            "        0, 1, 1, 1, 0, 0, 1, 1])\n"
          ],
          "name": "stdout"
        }
      ]
    },
    {
      "cell_type": "code",
      "metadata": {
        "id": "TDB9MetYWjYF",
        "colab_type": "code",
        "outputId": "3ab22d4d-9646-4d70-f130-8a7f05f88078",
        "colab": {
          "base_uri": "https://localhost:8080/",
          "height": 34
        }
      },
      "source": [
        "data = image_.numpy()\n",
        "data = data[2,0,:,:]\n",
        "data = data.squeeze()\n",
        "print(data.shape)"
      ],
      "execution_count": 0,
      "outputs": [
        {
          "output_type": "stream",
          "text": [
            "(224, 224)\n"
          ],
          "name": "stdout"
        }
      ]
    },
    {
      "cell_type": "code",
      "metadata": {
        "id": "9KA-7Z80X_Lw",
        "colab_type": "code",
        "outputId": "d1a02a1f-ea83-4351-fe39-b7d613c6ea08",
        "colab": {
          "base_uri": "https://localhost:8080/",
          "height": 265
        }
      },
      "source": [
        "plt.imshow(data, cmap='gray')\n",
        "plt.axis('off')\n",
        "print(classes[label[2]])"
      ],
      "execution_count": 0,
      "outputs": [
        {
          "output_type": "stream",
          "text": [
            "normal\n"
          ],
          "name": "stdout"
        },
        {
          "output_type": "display_data",
          "data": {
            "image/png": "[encoded data removed]",
            "text/plain": [
              "<Figure size 432x288 with 1 Axes>"
            ]
          },
          "metadata": {
            "tags": [],
            "needs_background": "light"
          }
        }
      ]
    },
    {
      "cell_type": "code",
      "metadata": {
        "id": "vkgOj2H3YMuR",
        "colab_type": "code",
        "outputId": "5f67826f-9375-406d-c3cc-4b63164ae19a",
        "colab": {
          "base_uri": "https://localhost:8080/",
          "height": 799
        }
      },
      "source": [
        "vgg16 = models.vgg16(pretrained=True)\n",
        "print(vgg16)\n",
        "print('Output Layer of VGG16 : ', vgg16.classifier[6].out_features)"
      ],
      "execution_count": 8,
      "outputs": [
        {
          "output_type": "stream",
          "text": [
            "VGG(\n",
            "  (features): Sequential(\n",
            "    (0): Conv2d(3, 64, kernel_size=(3, 3), stride=(1, 1), padding=(1, 1))\n",
            "    (1): ReLU(inplace=True)\n",
            "    (2): Conv2d(64, 64, kernel_size=(3, 3), stride=(1, 1), padding=(1, 1))\n",
            "    (3): ReLU(inplace=True)\n",
            "    (4): MaxPool2d(kernel_size=2, stride=2, padding=0, dilation=1, ceil_mode=False)\n",
            "    (5): Conv2d(64, 128, kernel_size=(3, 3), stride=(1, 1), padding=(1, 1))\n",
            "    (6): ReLU(inplace=True)\n",
            "    (7): Conv2d(128, 128, kernel_size=(3, 3), stride=(1, 1), padding=(1, 1))\n",
            "    (8): ReLU(inplace=True)\n",
            "    (9): MaxPool2d(kernel_size=2, stride=2, padding=0, dilation=1, ceil_mode=False)\n",
            "    (10): Conv2d(128, 256, kernel_size=(3, 3), stride=(1, 1), padding=(1, 1))\n",
            "    (11): ReLU(inplace=True)\n",
            "    (12): Conv2d(256, 256, kernel_size=(3, 3), stride=(1, 1), padding=(1, 1))\n",
            "    (13): ReLU(inplace=True)\n",
            "    (14): Conv2d(256, 256, kernel_size=(3, 3), stride=(1, 1), padding=(1, 1))\n",
            "    (15): ReLU(inplace=True)\n",
            "    (16): MaxPool2d(kernel_size=2, stride=2, padding=0, dilation=1, ceil_mode=False)\n",
            "    (17): Conv2d(256, 512, kernel_size=(3, 3), stride=(1, 1), padding=(1, 1))\n",
            "    (18): ReLU(inplace=True)\n",
            "    (19): Conv2d(512, 512, kernel_size=(3, 3), stride=(1, 1), padding=(1, 1))\n",
            "    (20): ReLU(inplace=True)\n",
            "    (21): Conv2d(512, 512, kernel_size=(3, 3), stride=(1, 1), padding=(1, 1))\n",
            "    (22): ReLU(inplace=True)\n",
            "    (23): MaxPool2d(kernel_size=2, stride=2, padding=0, dilation=1, ceil_mode=False)\n",
            "    (24): Conv2d(512, 512, kernel_size=(3, 3), stride=(1, 1), padding=(1, 1))\n",
            "    (25): ReLU(inplace=True)\n",
            "    (26): Conv2d(512, 512, kernel_size=(3, 3), stride=(1, 1), padding=(1, 1))\n",
            "    (27): ReLU(inplace=True)\n",
            "    (28): Conv2d(512, 512, kernel_size=(3, 3), stride=(1, 1), padding=(1, 1))\n",
            "    (29): ReLU(inplace=True)\n",
            "    (30): MaxPool2d(kernel_size=2, stride=2, padding=0, dilation=1, ceil_mode=False)\n",
            "  )\n",
            "  (avgpool): AdaptiveAvgPool2d(output_size=(7, 7))\n",
            "  (classifier): Sequential(\n",
            "    (0): Linear(in_features=25088, out_features=4096, bias=True)\n",
            "    (1): ReLU(inplace=True)\n",
            "    (2): Dropout(p=0.5, inplace=False)\n",
            "    (3): Linear(in_features=4096, out_features=4096, bias=True)\n",
            "    (4): ReLU(inplace=True)\n",
            "    (5): Dropout(p=0.5, inplace=False)\n",
            "    (6): Linear(in_features=4096, out_features=1000, bias=True)\n",
            "  )\n",
            ")\n",
            "Output Layer of VGG16 :  1000\n"
          ],
          "name": "stdout"
        }
      ]
    },
    {
      "cell_type": "markdown",
      "metadata": {
        "id": "y7yuc_WrrNDx",
        "colab_type": "text"
      },
      "source": [
        "**Freezing Features(Convolutional Layers)**"
      ]
    },
    {
      "cell_type": "code",
      "metadata": {
        "id": "IAyVraHLdIl2",
        "colab_type": "code",
        "colab": {}
      },
      "source": [
        "# Freeze training for all layers\n",
        "for param in vgg16.features.parameters():\n",
        "    param.require_grad = False"
      ],
      "execution_count": 0,
      "outputs": []
    },
    {
      "cell_type": "markdown",
      "metadata": {
        "id": "NxQel-DFq76k",
        "colab_type": "text"
      },
      "source": [
        "**Removing FC Layers**\n"
      ]
    },
    {
      "cell_type": "code",
      "metadata": {
        "id": "q7YLqYCsrFfS",
        "colab_type": "code",
        "outputId": "51a9258a-7f7f-4a59-e64b-4fedd8d5e949",
        "colab": {
          "base_uri": "https://localhost:8080/",
          "height": 34
        }
      },
      "source": [
        "num0_features = vgg16.classifier[0].in_features\n",
        "features = list([nn.Linear(num0_features, 400), nn.ReLU(inplace=True), nn.Dropout(p=0.5) ,nn.Linear(400, len(classes))])\n",
        "print(features)"
      ],
      "execution_count": 10,
      "outputs": [
        {
          "output_type": "stream",
          "text": [
            "[Linear(in_features=25088, out_features=400, bias=True), ReLU(inplace=True), Dropout(p=0.5, inplace=False), Linear(in_features=400, out_features=2, bias=True)]\n"
          ],
          "name": "stdout"
        }
      ]
    },
    {
      "cell_type": "code",
      "metadata": {
        "id": "1gZmOL5fsvr6",
        "colab_type": "code",
        "outputId": "6d3898ae-3bfa-42b3-805e-16b84ba5fff3",
        "colab": {
          "base_uri": "https://localhost:8080/",
          "height": 731
        }
      },
      "source": [
        "vgg16.classifier = nn.Sequential(*features)\n",
        "print(vgg16)"
      ],
      "execution_count": 11,
      "outputs": [
        {
          "output_type": "stream",
          "text": [
            "VGG(\n",
            "  (features): Sequential(\n",
            "    (0): Conv2d(3, 64, kernel_size=(3, 3), stride=(1, 1), padding=(1, 1))\n",
            "    (1): ReLU(inplace=True)\n",
            "    (2): Conv2d(64, 64, kernel_size=(3, 3), stride=(1, 1), padding=(1, 1))\n",
            "    (3): ReLU(inplace=True)\n",
            "    (4): MaxPool2d(kernel_size=2, stride=2, padding=0, dilation=1, ceil_mode=False)\n",
            "    (5): Conv2d(64, 128, kernel_size=(3, 3), stride=(1, 1), padding=(1, 1))\n",
            "    (6): ReLU(inplace=True)\n",
            "    (7): Conv2d(128, 128, kernel_size=(3, 3), stride=(1, 1), padding=(1, 1))\n",
            "    (8): ReLU(inplace=True)\n",
            "    (9): MaxPool2d(kernel_size=2, stride=2, padding=0, dilation=1, ceil_mode=False)\n",
            "    (10): Conv2d(128, 256, kernel_size=(3, 3), stride=(1, 1), padding=(1, 1))\n",
            "    (11): ReLU(inplace=True)\n",
            "    (12): Conv2d(256, 256, kernel_size=(3, 3), stride=(1, 1), padding=(1, 1))\n",
            "    (13): ReLU(inplace=True)\n",
            "    (14): Conv2d(256, 256, kernel_size=(3, 3), stride=(1, 1), padding=(1, 1))\n",
            "    (15): ReLU(inplace=True)\n",
            "    (16): MaxPool2d(kernel_size=2, stride=2, padding=0, dilation=1, ceil_mode=False)\n",
            "    (17): Conv2d(256, 512, kernel_size=(3, 3), stride=(1, 1), padding=(1, 1))\n",
            "    (18): ReLU(inplace=True)\n",
            "    (19): Conv2d(512, 512, kernel_size=(3, 3), stride=(1, 1), padding=(1, 1))\n",
            "    (20): ReLU(inplace=True)\n",
            "    (21): Conv2d(512, 512, kernel_size=(3, 3), stride=(1, 1), padding=(1, 1))\n",
            "    (22): ReLU(inplace=True)\n",
            "    (23): MaxPool2d(kernel_size=2, stride=2, padding=0, dilation=1, ceil_mode=False)\n",
            "    (24): Conv2d(512, 512, kernel_size=(3, 3), stride=(1, 1), padding=(1, 1))\n",
            "    (25): ReLU(inplace=True)\n",
            "    (26): Conv2d(512, 512, kernel_size=(3, 3), stride=(1, 1), padding=(1, 1))\n",
            "    (27): ReLU(inplace=True)\n",
            "    (28): Conv2d(512, 512, kernel_size=(3, 3), stride=(1, 1), padding=(1, 1))\n",
            "    (29): ReLU(inplace=True)\n",
            "    (30): MaxPool2d(kernel_size=2, stride=2, padding=0, dilation=1, ceil_mode=False)\n",
            "  )\n",
            "  (avgpool): AdaptiveAvgPool2d(output_size=(7, 7))\n",
            "  (classifier): Sequential(\n",
            "    (0): Linear(in_features=25088, out_features=400, bias=True)\n",
            "    (1): ReLU(inplace=True)\n",
            "    (2): Dropout(p=0.5, inplace=False)\n",
            "    (3): Linear(in_features=400, out_features=2, bias=True)\n",
            "  )\n",
            ")\n"
          ],
          "name": "stdout"
        }
      ]
    },
    {
      "cell_type": "code",
      "metadata": {
        "id": "Ehw9WN23tM_T",
        "colab_type": "code",
        "colab": {}
      },
      "source": [
        "#some hyper parameters\n",
        "learning_rate = 0.001\n",
        "Epochs = 5\n",
        "\n",
        "criterion = nn.CrossEntropyLoss() #loss function"
      ],
      "execution_count": 0,
      "outputs": []
    },
    {
      "cell_type": "code",
      "metadata": {
        "id": "Nezoxn7GtxqB",
        "colab_type": "code",
        "colab": {}
      },
      "source": [
        "def train_model(dataloader, model, savepath,  epochs=5):\n",
        "  optimizer = optim.SGD(model.parameters(), lr=learning_rate, momentum=0.9) #optimizers: stochastic gradient descent, Adam, Adagrad\n",
        "\n",
        "  device = torch.device(\"cuda:0\" if torch.cuda.is_available() else \"cpu\")\n",
        "  print(device)\n",
        "  model.to(device)\n",
        "\n",
        "  model.train()\n",
        "  accuracies={'train': [], 'valid': []}\n",
        "  cummulative_loss={'train': [], 'valid': []}\n",
        "\n",
        "  for epoch in range(epochs):  # loop over the dataset multiple times\n",
        "\n",
        "      running_loss = 0.0\n",
        "      pbar = tqdm(enumerate(dataloader))\n",
        "      for i, data in pbar:\n",
        "          # get the inputs\n",
        "          inputs, labels = data\n",
        "          inputs, labels = inputs.to(device), labels.to(device)\n",
        "\n",
        "          # zero the parameter gradients\n",
        "          optimizer.zero_grad()\n",
        "          # In PyTorch, we need to set the gradients to zero before starting to do backpropragation \n",
        "          # because PyTorch accumulates the gradients on subsequent backward passes. \n",
        "          # This is convenient while training RNNs. \n",
        "          # So, the default action is to accumulate the gradients on every loss.backward() call\n",
        "\n",
        "          # forward + backward + optimize\n",
        "          outputs = model(inputs)               #----> forward pass\n",
        "          loss = criterion(outputs, labels)   #----> compute loss\n",
        "          loss.backward()                     #----> backward pass\n",
        "          optimizer.step()                    #----> weights update\n",
        "\n",
        "          # print statistics\n",
        "          running_loss += loss.item()\n",
        "        \n",
        "          pbar.set_description(\n",
        "              'Train Epoch: {} [{}/{} ({:.0f}%)]\\tLoss: {:.6f}'.format(\n",
        "                  epoch, i * len(inputs), len(dataloader.dataset),\n",
        "                  100. * i / len(dataloader),\n",
        "                  loss.data), refresh=True)\n",
        "      \n",
        "      result_tr = accuracy(covid_train, model)\n",
        "      result_va = accuracy(covid_valid, model)\n",
        "\n",
        "      accuracies['train'].append(result_tr[0])\n",
        "      accuracies['valid'].append(result_tr[0])\n",
        " \n",
        "      cummulative_loss['train'].append(result_va[1])\n",
        "      cummulative_loss['valid'].append(result_va[1])\n",
        "\n",
        "  torch.save(model.state_dict(), savepath)\n",
        "\n",
        "  print('Finished Training')\n",
        "  return (accuracies,cummulative_loss, epochs)"
      ],
      "execution_count": 0,
      "outputs": []
    },
    {
      "cell_type": "markdown",
      "metadata": {
        "id": "s1X59rLQ3xs0",
        "colab_type": "text"
      },
      "source": [
        "# **Accuracy Func**"
      ]
    },
    {
      "cell_type": "code",
      "metadata": {
        "id": "fHpG4p_rGp-h",
        "colab_type": "code",
        "colab": {}
      },
      "source": [
        "device = torch.device(\"cuda:0\" if torch.cuda.is_available() else \"cpu\")\n",
        "\n",
        "def accuracy(dataloader, model):\n",
        "  correct = 0\n",
        "  total = 0\n",
        "  True_norm = 0\n",
        "  True_infect = 0\n",
        "  False_norm = 0\n",
        "  False_infect = 0 \n",
        "  loss= []\n",
        "  with torch.no_grad():\n",
        "      for data in dataloader:\n",
        "          images, labels = data\n",
        "          images, labels = images.to(device), labels.to(device)\n",
        "          outputs = model(images)\n",
        "          loss.append(criterion(outputs, labels).data.item())\n",
        "          _, predicted = torch.max(outputs.data, 1)\n",
        "          total += labels.size(0)\n",
        "          correct += (predicted == labels).sum().item()\n",
        "\n",
        "          True_norm += (labels[predicted==1] == 1).sum().item() #TP\n",
        "          True_infect += (labels[predicted==0] == 0).sum().item() #TN\n",
        "          False_norm += (labels[predicted==1] == 0).sum().item() #FP\n",
        "          False_infect += (labels[predicted==0] == 1).sum().item() #FN\n",
        "\n",
        "  print('Accuracy of the network on the', total ,'test images: %d %%' % (\n",
        "      100 * correct / total))\n",
        "  accuracy = 100 * correct / total\n",
        "  mean_loss = np.mean(np.array(loss))\n",
        "  return (accuracy, mean_loss, True_norm, True_infect, False_norm, False_infect)"
      ],
      "execution_count": 0,
      "outputs": []
    },
    {
      "cell_type": "markdown",
      "metadata": {
        "id": "PU3X8XJ23_fX",
        "colab_type": "text"
      },
      "source": [
        "# **Training VGG-16**"
      ]
    },
    {
      "cell_type": "code",
      "metadata": {
        "id": "hW3wQsgawb93",
        "colab_type": "code",
        "outputId": "9d066118-aaee-4e46-f14a-2bb9a2de5d39",
        "colab": {
          "base_uri": "https://localhost:8080/",
          "height": 306
        }
      },
      "source": [
        "report_train_vgg = train_model(covid_train, vgg16, 'vgg16_FC_Only.pth')"
      ],
      "execution_count": 15,
      "outputs": [
        {
          "output_type": "stream",
          "text": [
            "cuda:0\n"
          ],
          "name": "stdout"
        },
        {
          "output_type": "stream",
          "text": [
            "Train Epoch: 0 [11968/12000 (100%)]\tLoss: 0.275435: : 375it [02:08,  2.92it/s]\n"
          ],
          "name": "stderr"
        },
        {
          "output_type": "stream",
          "text": [
            "Accuracy of the network on the 12000 test images: 89 %\n",
            "Accuracy of the network on the 1500 test images: 89 %\n"
          ],
          "name": "stdout"
        },
        {
          "output_type": "stream",
          "text": [
            "Train Epoch: 1 [11968/12000 (100%)]\tLoss: 0.245491: : 375it [02:09,  2.90it/s]\n"
          ],
          "name": "stderr"
        },
        {
          "output_type": "stream",
          "text": [
            "Accuracy of the network on the 12000 test images: 91 %\n",
            "Accuracy of the network on the 1500 test images: 90 %\n"
          ],
          "name": "stdout"
        },
        {
          "output_type": "stream",
          "text": [
            "Train Epoch: 2 [11968/12000 (100%)]\tLoss: 0.323497: : 375it [02:10,  2.87it/s]\n"
          ],
          "name": "stderr"
        },
        {
          "output_type": "stream",
          "text": [
            "Accuracy of the network on the 12000 test images: 90 %\n",
            "Accuracy of the network on the 1500 test images: 90 %\n"
          ],
          "name": "stdout"
        },
        {
          "output_type": "stream",
          "text": [
            "Train Epoch: 3 [11968/12000 (100%)]\tLoss: 0.190631: : 375it [02:11,  2.84it/s]\n"
          ],
          "name": "stderr"
        },
        {
          "output_type": "stream",
          "text": [
            "Accuracy of the network on the 12000 test images: 89 %\n",
            "Accuracy of the network on the 1500 test images: 90 %\n"
          ],
          "name": "stdout"
        },
        {
          "output_type": "stream",
          "text": [
            "Train Epoch: 4 [11968/12000 (100%)]\tLoss: 0.116009: : 375it [02:12,  2.83it/s]\n"
          ],
          "name": "stderr"
        },
        {
          "output_type": "stream",
          "text": [
            "Accuracy of the network on the 12000 test images: 91 %\n",
            "Accuracy of the network on the 1500 test images: 90 %\n",
            "Finished Training\n"
          ],
          "name": "stdout"
        }
      ]
    },
    {
      "cell_type": "markdown",
      "metadata": {
        "id": "-3ucBm1h32jD",
        "colab_type": "text"
      },
      "source": [
        "# **Loading Test Data**"
      ]
    },
    {
      "cell_type": "code",
      "metadata": {
        "id": "J3D3kU5H868u",
        "colab_type": "code",
        "outputId": "5c8193e4-3afb-4df2-f143-0cb2de9fa846",
        "colab": {
          "base_uri": "https://localhost:8080/",
          "height": 187
        }
      },
      "source": [
        "test_dataset = datasets.ImageFolder(data_dir+'/test', transform=test_transform)\n",
        "print(test_dataset)\n",
        "covid_test = torch.utils.data.DataLoader(test_dataset, batch_size=32, \n",
        "                                        shuffle=True, num_workers=8)"
      ],
      "execution_count": 16,
      "outputs": [
        {
          "output_type": "stream",
          "text": [
            "Dataset ImageFolder\n",
            "    Number of datapoints: 1500\n",
            "    Root location: /content/gdrive/My Drive/Assignment 5 Dataset/test\n",
            "    StandardTransform\n",
            "Transform: Compose(\n",
            "               Resize(size=256, interpolation=PIL.Image.BILINEAR)\n",
            "               CenterCrop(size=(224, 224))\n",
            "               ToTensor()\n",
            "               Normalize(mean=[0.485, 0.456, 0.406], std=[0.229, 0.224, 0.225])\n",
            "           )\n"
          ],
          "name": "stdout"
        }
      ]
    },
    {
      "cell_type": "markdown",
      "metadata": {
        "id": "gXO0Yd5g3pf0",
        "colab_type": "text"
      },
      "source": [
        "# **Resnet**"
      ]
    },
    {
      "cell_type": "code",
      "metadata": {
        "id": "_ta5jK8IZsdS",
        "colab_type": "code",
        "outputId": "3ada996e-ac4d-4e45-8dea-947a6f67197a",
        "colab": {
          "base_uri": "https://localhost:8080/",
          "height": 1000
        }
      },
      "source": [
        "resnet18 = models.resnet18(pretrained=True)\n",
        "print(resnet18)"
      ],
      "execution_count": 17,
      "outputs": [
        {
          "output_type": "stream",
          "text": [
            "ResNet(\n",
            "  (conv1): Conv2d(3, 64, kernel_size=(7, 7), stride=(2, 2), padding=(3, 3), bias=False)\n",
            "  (bn1): BatchNorm2d(64, eps=1e-05, momentum=0.1, affine=True, track_running_stats=True)\n",
            "  (relu): ReLU(inplace=True)\n",
            "  (maxpool): MaxPool2d(kernel_size=3, stride=2, padding=1, dilation=1, ceil_mode=False)\n",
            "  (layer1): Sequential(\n",
            "    (0): BasicBlock(\n",
            "      (conv1): Conv2d(64, 64, kernel_size=(3, 3), stride=(1, 1), padding=(1, 1), bias=False)\n",
            "      (bn1): BatchNorm2d(64, eps=1e-05, momentum=0.1, affine=True, track_running_stats=True)\n",
            "      (relu): ReLU(inplace=True)\n",
            "      (conv2): Conv2d(64, 64, kernel_size=(3, 3), stride=(1, 1), padding=(1, 1), bias=False)\n",
            "      (bn2): BatchNorm2d(64, eps=1e-05, momentum=0.1, affine=True, track_running_stats=True)\n",
            "    )\n",
            "    (1): BasicBlock(\n",
            "      (conv1): Conv2d(64, 64, kernel_size=(3, 3), stride=(1, 1), padding=(1, 1), bias=False)\n",
            "      (bn1): BatchNorm2d(64, eps=1e-05, momentum=0.1, affine=True, track_running_stats=True)\n",
            "      (relu): ReLU(inplace=True)\n",
            "      (conv2): Conv2d(64, 64, kernel_size=(3, 3), stride=(1, 1), padding=(1, 1), bias=False)\n",
            "      (bn2): BatchNorm2d(64, eps=1e-05, momentum=0.1, affine=True, track_running_stats=True)\n",
            "    )\n",
            "  )\n",
            "  (layer2): Sequential(\n",
            "    (0): BasicBlock(\n",
            "      (conv1): Conv2d(64, 128, kernel_size=(3, 3), stride=(2, 2), padding=(1, 1), bias=False)\n",
            "      (bn1): BatchNorm2d(128, eps=1e-05, momentum=0.1, affine=True, track_running_stats=True)\n",
            "      (relu): ReLU(inplace=True)\n",
            "      (conv2): Conv2d(128, 128, kernel_size=(3, 3), stride=(1, 1), padding=(1, 1), bias=False)\n",
            "      (bn2): BatchNorm2d(128, eps=1e-05, momentum=0.1, affine=True, track_running_stats=True)\n",
            "      (downsample): Sequential(\n",
            "        (0): Conv2d(64, 128, kernel_size=(1, 1), stride=(2, 2), bias=False)\n",
            "        (1): BatchNorm2d(128, eps=1e-05, momentum=0.1, affine=True, track_running_stats=True)\n",
            "      )\n",
            "    )\n",
            "    (1): BasicBlock(\n",
            "      (conv1): Conv2d(128, 128, kernel_size=(3, 3), stride=(1, 1), padding=(1, 1), bias=False)\n",
            "      (bn1): BatchNorm2d(128, eps=1e-05, momentum=0.1, affine=True, track_running_stats=True)\n",
            "      (relu): ReLU(inplace=True)\n",
            "      (conv2): Conv2d(128, 128, kernel_size=(3, 3), stride=(1, 1), padding=(1, 1), bias=False)\n",
            "      (bn2): BatchNorm2d(128, eps=1e-05, momentum=0.1, affine=True, track_running_stats=True)\n",
            "    )\n",
            "  )\n",
            "  (layer3): Sequential(\n",
            "    (0): BasicBlock(\n",
            "      (conv1): Conv2d(128, 256, kernel_size=(3, 3), stride=(2, 2), padding=(1, 1), bias=False)\n",
            "      (bn1): BatchNorm2d(256, eps=1e-05, momentum=0.1, affine=True, track_running_stats=True)\n",
            "      (relu): ReLU(inplace=True)\n",
            "      (conv2): Conv2d(256, 256, kernel_size=(3, 3), stride=(1, 1), padding=(1, 1), bias=False)\n",
            "      (bn2): BatchNorm2d(256, eps=1e-05, momentum=0.1, affine=True, track_running_stats=True)\n",
            "      (downsample): Sequential(\n",
            "        (0): Conv2d(128, 256, kernel_size=(1, 1), stride=(2, 2), bias=False)\n",
            "        (1): BatchNorm2d(256, eps=1e-05, momentum=0.1, affine=True, track_running_stats=True)\n",
            "      )\n",
            "    )\n",
            "    (1): BasicBlock(\n",
            "      (conv1): Conv2d(256, 256, kernel_size=(3, 3), stride=(1, 1), padding=(1, 1), bias=False)\n",
            "      (bn1): BatchNorm2d(256, eps=1e-05, momentum=0.1, affine=True, track_running_stats=True)\n",
            "      (relu): ReLU(inplace=True)\n",
            "      (conv2): Conv2d(256, 256, kernel_size=(3, 3), stride=(1, 1), padding=(1, 1), bias=False)\n",
            "      (bn2): BatchNorm2d(256, eps=1e-05, momentum=0.1, affine=True, track_running_stats=True)\n",
            "    )\n",
            "  )\n",
            "  (layer4): Sequential(\n",
            "    (0): BasicBlock(\n",
            "      (conv1): Conv2d(256, 512, kernel_size=(3, 3), stride=(2, 2), padding=(1, 1), bias=False)\n",
            "      (bn1): BatchNorm2d(512, eps=1e-05, momentum=0.1, affine=True, track_running_stats=True)\n",
            "      (relu): ReLU(inplace=True)\n",
            "      (conv2): Conv2d(512, 512, kernel_size=(3, 3), stride=(1, 1), padding=(1, 1), bias=False)\n",
            "      (bn2): BatchNorm2d(512, eps=1e-05, momentum=0.1, affine=True, track_running_stats=True)\n",
            "      (downsample): Sequential(\n",
            "        (0): Conv2d(256, 512, kernel_size=(1, 1), stride=(2, 2), bias=False)\n",
            "        (1): BatchNorm2d(512, eps=1e-05, momentum=0.1, affine=True, track_running_stats=True)\n",
            "      )\n",
            "    )\n",
            "    (1): BasicBlock(\n",
            "      (conv1): Conv2d(512, 512, kernel_size=(3, 3), stride=(1, 1), padding=(1, 1), bias=False)\n",
            "      (bn1): BatchNorm2d(512, eps=1e-05, momentum=0.1, affine=True, track_running_stats=True)\n",
            "      (relu): ReLU(inplace=True)\n",
            "      (conv2): Conv2d(512, 512, kernel_size=(3, 3), stride=(1, 1), padding=(1, 1), bias=False)\n",
            "      (bn2): BatchNorm2d(512, eps=1e-05, momentum=0.1, affine=True, track_running_stats=True)\n",
            "    )\n",
            "  )\n",
            "  (avgpool): AdaptiveAvgPool2d(output_size=(1, 1))\n",
            "  (fc): Linear(in_features=512, out_features=1000, bias=True)\n",
            ")\n"
          ],
          "name": "stdout"
        }
      ]
    },
    {
      "cell_type": "markdown",
      "metadata": {
        "id": "G9fUHupaaXTR",
        "colab_type": "text"
      },
      "source": [
        "# **Freezing Parameters**"
      ]
    },
    {
      "cell_type": "code",
      "metadata": {
        "id": "VPr_9NS4aTcx",
        "colab_type": "code",
        "colab": {}
      },
      "source": [
        "for param in resnet18.parameters():\n",
        "      param.require_grad = False"
      ],
      "execution_count": 0,
      "outputs": []
    },
    {
      "cell_type": "markdown",
      "metadata": {
        "id": "ZaY534YcbJTF",
        "colab_type": "text"
      },
      "source": [
        "# **Removing FC Layers**"
      ]
    },
    {
      "cell_type": "code",
      "metadata": {
        "id": "LOkHQlRSboUL",
        "colab_type": "code",
        "colab": {}
      },
      "source": [
        "num0_features = resnet18.fc.in_features\n",
        "features = list([nn.Linear(num0_features, 400), nn.ReLU(inplace=True), nn.Dropout(p=0.5), nn.Linear(400, len(classes))])"
      ],
      "execution_count": 0,
      "outputs": []
    },
    {
      "cell_type": "code",
      "metadata": {
        "id": "UUn7WJVVb5J_",
        "colab_type": "code",
        "outputId": "e6102ef0-1fff-4506-c300-926ded6893c0",
        "colab": {
          "base_uri": "https://localhost:8080/",
          "height": 1000
        }
      },
      "source": [
        "resnet18.fc = nn.Sequential(*features)\n",
        "print(resnet18)"
      ],
      "execution_count": 20,
      "outputs": [
        {
          "output_type": "stream",
          "text": [
            "ResNet(\n",
            "  (conv1): Conv2d(3, 64, kernel_size=(7, 7), stride=(2, 2), padding=(3, 3), bias=False)\n",
            "  (bn1): BatchNorm2d(64, eps=1e-05, momentum=0.1, affine=True, track_running_stats=True)\n",
            "  (relu): ReLU(inplace=True)\n",
            "  (maxpool): MaxPool2d(kernel_size=3, stride=2, padding=1, dilation=1, ceil_mode=False)\n",
            "  (layer1): Sequential(\n",
            "    (0): BasicBlock(\n",
            "      (conv1): Conv2d(64, 64, kernel_size=(3, 3), stride=(1, 1), padding=(1, 1), bias=False)\n",
            "      (bn1): BatchNorm2d(64, eps=1e-05, momentum=0.1, affine=True, track_running_stats=True)\n",
            "      (relu): ReLU(inplace=True)\n",
            "      (conv2): Conv2d(64, 64, kernel_size=(3, 3), stride=(1, 1), padding=(1, 1), bias=False)\n",
            "      (bn2): BatchNorm2d(64, eps=1e-05, momentum=0.1, affine=True, track_running_stats=True)\n",
            "    )\n",
            "    (1): BasicBlock(\n",
            "      (conv1): Conv2d(64, 64, kernel_size=(3, 3), stride=(1, 1), padding=(1, 1), bias=False)\n",
            "      (bn1): BatchNorm2d(64, eps=1e-05, momentum=0.1, affine=True, track_running_stats=True)\n",
            "      (relu): ReLU(inplace=True)\n",
            "      (conv2): Conv2d(64, 64, kernel_size=(3, 3), stride=(1, 1), padding=(1, 1), bias=False)\n",
            "      (bn2): BatchNorm2d(64, eps=1e-05, momentum=0.1, affine=True, track_running_stats=True)\n",
            "    )\n",
            "  )\n",
            "  (layer2): Sequential(\n",
            "    (0): BasicBlock(\n",
            "      (conv1): Conv2d(64, 128, kernel_size=(3, 3), stride=(2, 2), padding=(1, 1), bias=False)\n",
            "      (bn1): BatchNorm2d(128, eps=1e-05, momentum=0.1, affine=True, track_running_stats=True)\n",
            "      (relu): ReLU(inplace=True)\n",
            "      (conv2): Conv2d(128, 128, kernel_size=(3, 3), stride=(1, 1), padding=(1, 1), bias=False)\n",
            "      (bn2): BatchNorm2d(128, eps=1e-05, momentum=0.1, affine=True, track_running_stats=True)\n",
            "      (downsample): Sequential(\n",
            "        (0): Conv2d(64, 128, kernel_size=(1, 1), stride=(2, 2), bias=False)\n",
            "        (1): BatchNorm2d(128, eps=1e-05, momentum=0.1, affine=True, track_running_stats=True)\n",
            "      )\n",
            "    )\n",
            "    (1): BasicBlock(\n",
            "      (conv1): Conv2d(128, 128, kernel_size=(3, 3), stride=(1, 1), padding=(1, 1), bias=False)\n",
            "      (bn1): BatchNorm2d(128, eps=1e-05, momentum=0.1, affine=True, track_running_stats=True)\n",
            "      (relu): ReLU(inplace=True)\n",
            "      (conv2): Conv2d(128, 128, kernel_size=(3, 3), stride=(1, 1), padding=(1, 1), bias=False)\n",
            "      (bn2): BatchNorm2d(128, eps=1e-05, momentum=0.1, affine=True, track_running_stats=True)\n",
            "    )\n",
            "  )\n",
            "  (layer3): Sequential(\n",
            "    (0): BasicBlock(\n",
            "      (conv1): Conv2d(128, 256, kernel_size=(3, 3), stride=(2, 2), padding=(1, 1), bias=False)\n",
            "      (bn1): BatchNorm2d(256, eps=1e-05, momentum=0.1, affine=True, track_running_stats=True)\n",
            "      (relu): ReLU(inplace=True)\n",
            "      (conv2): Conv2d(256, 256, kernel_size=(3, 3), stride=(1, 1), padding=(1, 1), bias=False)\n",
            "      (bn2): BatchNorm2d(256, eps=1e-05, momentum=0.1, affine=True, track_running_stats=True)\n",
            "      (downsample): Sequential(\n",
            "        (0): Conv2d(128, 256, kernel_size=(1, 1), stride=(2, 2), bias=False)\n",
            "        (1): BatchNorm2d(256, eps=1e-05, momentum=0.1, affine=True, track_running_stats=True)\n",
            "      )\n",
            "    )\n",
            "    (1): BasicBlock(\n",
            "      (conv1): Conv2d(256, 256, kernel_size=(3, 3), stride=(1, 1), padding=(1, 1), bias=False)\n",
            "      (bn1): BatchNorm2d(256, eps=1e-05, momentum=0.1, affine=True, track_running_stats=True)\n",
            "      (relu): ReLU(inplace=True)\n",
            "      (conv2): Conv2d(256, 256, kernel_size=(3, 3), stride=(1, 1), padding=(1, 1), bias=False)\n",
            "      (bn2): BatchNorm2d(256, eps=1e-05, momentum=0.1, affine=True, track_running_stats=True)\n",
            "    )\n",
            "  )\n",
            "  (layer4): Sequential(\n",
            "    (0): BasicBlock(\n",
            "      (conv1): Conv2d(256, 512, kernel_size=(3, 3), stride=(2, 2), padding=(1, 1), bias=False)\n",
            "      (bn1): BatchNorm2d(512, eps=1e-05, momentum=0.1, affine=True, track_running_stats=True)\n",
            "      (relu): ReLU(inplace=True)\n",
            "      (conv2): Conv2d(512, 512, kernel_size=(3, 3), stride=(1, 1), padding=(1, 1), bias=False)\n",
            "      (bn2): BatchNorm2d(512, eps=1e-05, momentum=0.1, affine=True, track_running_stats=True)\n",
            "      (downsample): Sequential(\n",
            "        (0): Conv2d(256, 512, kernel_size=(1, 1), stride=(2, 2), bias=False)\n",
            "        (1): BatchNorm2d(512, eps=1e-05, momentum=0.1, affine=True, track_running_stats=True)\n",
            "      )\n",
            "    )\n",
            "    (1): BasicBlock(\n",
            "      (conv1): Conv2d(512, 512, kernel_size=(3, 3), stride=(1, 1), padding=(1, 1), bias=False)\n",
            "      (bn1): BatchNorm2d(512, eps=1e-05, momentum=0.1, affine=True, track_running_stats=True)\n",
            "      (relu): ReLU(inplace=True)\n",
            "      (conv2): Conv2d(512, 512, kernel_size=(3, 3), stride=(1, 1), padding=(1, 1), bias=False)\n",
            "      (bn2): BatchNorm2d(512, eps=1e-05, momentum=0.1, affine=True, track_running_stats=True)\n",
            "    )\n",
            "  )\n",
            "  (avgpool): AdaptiveAvgPool2d(output_size=(1, 1))\n",
            "  (fc): Sequential(\n",
            "    (0): Linear(in_features=512, out_features=400, bias=True)\n",
            "    (1): ReLU(inplace=True)\n",
            "    (2): Dropout(p=0.5, inplace=False)\n",
            "    (3): Linear(in_features=400, out_features=2, bias=True)\n",
            "  )\n",
            ")\n"
          ],
          "name": "stdout"
        }
      ]
    },
    {
      "cell_type": "markdown",
      "metadata": {
        "id": "zFXakfr_3XhV",
        "colab_type": "text"
      },
      "source": [
        "# **Training Resnet**"
      ]
    },
    {
      "cell_type": "code",
      "metadata": {
        "id": "fLZcjhcncDRe",
        "colab_type": "code",
        "outputId": "8e2ac579-6cea-49aa-d4a4-266c9b3820d1",
        "colab": {
          "base_uri": "https://localhost:8080/",
          "height": 302
        }
      },
      "source": [
        "report_train_resnet = train_model(covid_train, model=resnet18, savepath='resnet18_ft.pth')"
      ],
      "execution_count": 21,
      "outputs": [
        {
          "output_type": "stream",
          "text": [
            "cuda:0\n"
          ],
          "name": "stdout"
        },
        {
          "output_type": "stream",
          "text": [
            "Train Epoch: 0 [11968/12000 (100%)]\tLoss: 0.143107: : 375it [02:01,  3.10it/s]\n"
          ],
          "name": "stderr"
        },
        {
          "output_type": "stream",
          "text": [
            "Accuracy of the network on the 12000 test images: 88 %\n",
            "Accuracy of the network on the 1500 test images: 87 %\n"
          ],
          "name": "stdout"
        },
        {
          "output_type": "stream",
          "text": [
            "Train Epoch: 1 [11968/12000 (100%)]\tLoss: 0.132171: : 375it [02:01,  3.09it/s]\n"
          ],
          "name": "stderr"
        },
        {
          "output_type": "stream",
          "text": [
            "Accuracy of the network on the 12000 test images: 89 %\n",
            "Accuracy of the network on the 1500 test images: 88 %\n"
          ],
          "name": "stdout"
        },
        {
          "output_type": "stream",
          "text": [
            "Train Epoch: 2 [11968/12000 (100%)]\tLoss: 0.165387: : 375it [02:02,  3.07it/s]\n"
          ],
          "name": "stderr"
        },
        {
          "output_type": "stream",
          "text": [
            "Accuracy of the network on the 12000 test images: 90 %\n",
            "Accuracy of the network on the 1500 test images: 89 %\n"
          ],
          "name": "stdout"
        },
        {
          "output_type": "stream",
          "text": [
            "Train Epoch: 3 [11968/12000 (100%)]\tLoss: 0.123996: : 375it [02:02,  3.06it/s]\n"
          ],
          "name": "stderr"
        },
        {
          "output_type": "stream",
          "text": [
            "Accuracy of the network on the 12000 test images: 90 %\n",
            "Accuracy of the network on the 1500 test images: 89 %\n"
          ],
          "name": "stdout"
        },
        {
          "output_type": "stream",
          "text": [
            "Train Epoch: 4 [11968/12000 (100%)]\tLoss: 0.292223: : 375it [02:02,  3.06it/s]\n"
          ],
          "name": "stderr"
        },
        {
          "output_type": "stream",
          "text": [
            "Accuracy of the network on the 12000 test images: 90 %\n",
            "Accuracy of the network on the 1500 test images: 89 %\n",
            "Finished Training\n"
          ],
          "name": "stdout"
        }
      ]
    },
    {
      "cell_type": "markdown",
      "metadata": {
        "id": "tTCbN-md3J3I",
        "colab_type": "text"
      },
      "source": [
        "# **Accuracy of Resnet**"
      ]
    },
    {
      "cell_type": "code",
      "metadata": {
        "id": "BKu9bXYMcZ4t",
        "colab_type": "code",
        "colab": {
          "base_uri": "https://localhost:8080/",
          "height": 34
        },
        "outputId": "e1afdc48-b3c7-4b3d-a50b-33500727887d"
      },
      "source": [
        "report_test_resnet = accuracy(covid_test, resnet18)"
      ],
      "execution_count": 38,
      "outputs": [
        {
          "output_type": "stream",
          "text": [
            "Accuracy of the network on the 1500 test images: 95 %\n"
          ],
          "name": "stdout"
        }
      ]
    },
    {
      "cell_type": "markdown",
      "metadata": {
        "id": "JgIt6BVh3SHT",
        "colab_type": "text"
      },
      "source": [
        "# **Accuracy of VGG**"
      ]
    },
    {
      "cell_type": "code",
      "metadata": {
        "id": "UvuhYe7ZpDX7",
        "colab_type": "code",
        "outputId": "0e903e9e-45de-4ddd-ff05-f63ef51474b1",
        "colab": {
          "base_uri": "https://localhost:8080/",
          "height": 34
        }
      },
      "source": [
        "report_test_vgg = accuracy(covid_test, vgg16)"
      ],
      "execution_count": 37,
      "outputs": [
        {
          "output_type": "stream",
          "text": [
            "Accuracy of the network on the 1500 test images: 96 %\n"
          ],
          "name": "stdout"
        }
      ]
    },
    {
      "cell_type": "markdown",
      "metadata": {
        "id": "WCwt6yuWr1a0",
        "colab_type": "text"
      },
      "source": [
        "# **Task 2**"
      ]
    },
    {
      "cell_type": "markdown",
      "metadata": {
        "id": "yOrZM4aptuPp",
        "colab_type": "text"
      },
      "source": [
        "# **Defining Models VGG-16 & RESNET-18**"
      ]
    },
    {
      "cell_type": "code",
      "metadata": {
        "id": "KziQGY5Sr90O",
        "colab_type": "code",
        "colab": {}
      },
      "source": [
        "resnet18_2 = models.resnet18(pretrained=True)\n",
        "vgg16_2 = models.vgg16(pretrained=True)"
      ],
      "execution_count": 0,
      "outputs": []
    },
    {
      "cell_type": "markdown",
      "metadata": {
        "id": "jPCpcfrbt4Df",
        "colab_type": "text"
      },
      "source": [
        "# **Replacing FC Layers**"
      ]
    },
    {
      "cell_type": "code",
      "metadata": {
        "id": "oM-cw6lytIc5",
        "colab_type": "code",
        "colab": {}
      },
      "source": [
        "resnet_num0_features = resnet18_2.fc.in_features\n",
        "resnet_features = list([nn.Linear(resnet_num0_features, 400), nn.ReLU(inplace=True), nn.Dropout(p=0.5), nn.Linear(400, len(classes))])\n",
        "\n",
        "vgg_num0_features = vgg16_2.classifier[0].in_features\n",
        "vgg_features = list([nn.Linear(vgg_num0_features, 400), nn.ReLU(inplace=True), nn.Dropout(p=0.5), nn.Linear(400, len(classes))])\n",
        "\n",
        "\n",
        "resnet18_2.fc = nn.Sequential(*resnet_features)\n",
        "vgg16_2.classifier = nn.Sequential(*vgg_features)"
      ],
      "execution_count": 0,
      "outputs": []
    },
    {
      "cell_type": "markdown",
      "metadata": {
        "id": "HbjTM365uNES",
        "colab_type": "text"
      },
      "source": [
        "# **Randomly freezing in VGG-16**\n",
        "\n",
        "---\n"
      ]
    },
    {
      "cell_type": "code",
      "metadata": {
        "id": "aFI0njnbuX0i",
        "colab_type": "code",
        "colab": {}
      },
      "source": [
        "freeze=[0,7,9,19,20,24]\n",
        "i=0\n",
        "for param in vgg16_2.features.parameters():\n",
        "    if i in freeze:\n",
        "      param.require_grad = False\n",
        "    i+=1"
      ],
      "execution_count": 0,
      "outputs": []
    },
    {
      "cell_type": "code",
      "metadata": {
        "id": "-PT8GYDG0P7K",
        "colab_type": "code",
        "outputId": "56cb1f74-eea1-4013-8827-3f943233f9b2",
        "colab": {
          "base_uri": "https://localhost:8080/",
          "height": 302
        }
      },
      "source": [
        "report_train_vgg_2 = train_model(covid_train, model=vgg16_2, savepath='vgg16_2_entire.pth')"
      ],
      "execution_count": 28,
      "outputs": [
        {
          "output_type": "stream",
          "text": [
            "cuda:0\n"
          ],
          "name": "stdout"
        },
        {
          "output_type": "stream",
          "text": [
            "Train Epoch: 0 [11968/12000 (100%)]\tLoss: 0.164355: : 375it [02:10,  2.86it/s]\n"
          ],
          "name": "stderr"
        },
        {
          "output_type": "stream",
          "text": [
            "Accuracy of the network on the 12000 test images: 89 %\n",
            "Accuracy of the network on the 1500 test images: 89 %\n"
          ],
          "name": "stdout"
        },
        {
          "output_type": "stream",
          "text": [
            "Train Epoch: 1 [11968/12000 (100%)]\tLoss: 0.128190: : 375it [02:12,  2.82it/s]\n"
          ],
          "name": "stderr"
        },
        {
          "output_type": "stream",
          "text": [
            "Accuracy of the network on the 12000 test images: 90 %\n",
            "Accuracy of the network on the 1500 test images: 89 %\n"
          ],
          "name": "stdout"
        },
        {
          "output_type": "stream",
          "text": [
            "Train Epoch: 2 [11968/12000 (100%)]\tLoss: 0.287968: : 375it [02:12,  2.83it/s]\n"
          ],
          "name": "stderr"
        },
        {
          "output_type": "stream",
          "text": [
            "Accuracy of the network on the 12000 test images: 91 %\n",
            "Accuracy of the network on the 1500 test images: 89 %\n"
          ],
          "name": "stdout"
        },
        {
          "output_type": "stream",
          "text": [
            "Train Epoch: 3 [11968/12000 (100%)]\tLoss: 0.106105: : 375it [02:12,  2.83it/s]\n"
          ],
          "name": "stderr"
        },
        {
          "output_type": "stream",
          "text": [
            "Accuracy of the network on the 12000 test images: 91 %\n",
            "Accuracy of the network on the 1500 test images: 91 %\n"
          ],
          "name": "stdout"
        },
        {
          "output_type": "stream",
          "text": [
            "Train Epoch: 4 [11968/12000 (100%)]\tLoss: 0.423810: : 375it [02:12,  2.83it/s]\n"
          ],
          "name": "stderr"
        },
        {
          "output_type": "stream",
          "text": [
            "Accuracy of the network on the 12000 test images: 92 %\n",
            "Accuracy of the network on the 1500 test images: 91 %\n",
            "Finished Training\n"
          ],
          "name": "stdout"
        }
      ]
    },
    {
      "cell_type": "code",
      "metadata": {
        "id": "Qu3nvkb42jO4",
        "colab_type": "code",
        "outputId": "4f34faae-60c2-45a9-bc01-43e60400f6bd",
        "colab": {
          "base_uri": "https://localhost:8080/",
          "height": 34
        }
      },
      "source": [
        "report_test_vgg_2 = accuracy(covid_test, vgg16_2)"
      ],
      "execution_count": 45,
      "outputs": [
        {
          "output_type": "stream",
          "text": [
            "Accuracy of the network on the 1500 test images: 97 %\n"
          ],
          "name": "stdout"
        }
      ]
    },
    {
      "cell_type": "markdown",
      "metadata": {
        "id": "BuYVde1S0pQR",
        "colab_type": "text"
      },
      "source": [
        "# **Randomly freezing in RESNET-18**\n",
        "\n",
        "---\n",
        "\n"
      ]
    },
    {
      "cell_type": "code",
      "metadata": {
        "id": "aaHfGnNa0wi3",
        "colab_type": "code",
        "colab": {}
      },
      "source": [
        "freeze=[0,12,22,24,36,38,40,49,50,55,57,62]\n",
        "i=0\n",
        "for param in resnet18_2.parameters():\n",
        "    if i in freeze:\n",
        "      param.require_grad = False\n",
        "    i+=1"
      ],
      "execution_count": 0,
      "outputs": []
    },
    {
      "cell_type": "code",
      "metadata": {
        "id": "exvh_7jw2J8o",
        "colab_type": "code",
        "outputId": "158ea920-3d65-446b-8463-b5a003a395f5",
        "colab": {
          "base_uri": "https://localhost:8080/",
          "height": 302
        }
      },
      "source": [
        "report_train_resnet_2 = train_model(covid_train, model=resnet18_2, savepath='resnet18_2_entire.pth')"
      ],
      "execution_count": 48,
      "outputs": [
        {
          "output_type": "stream",
          "text": [
            "cuda:0\n"
          ],
          "name": "stdout"
        },
        {
          "output_type": "stream",
          "text": [
            "Train Epoch: 0 [11968/12000 (100%)]\tLoss: 0.404949: : 375it [02:01,  3.08it/s]\n"
          ],
          "name": "stderr"
        },
        {
          "output_type": "stream",
          "text": [
            "Accuracy of the network on the 12000 test images: 88 %\n",
            "Accuracy of the network on the 1500 test images: 87 %\n"
          ],
          "name": "stdout"
        },
        {
          "output_type": "stream",
          "text": [
            "Train Epoch: 1 [11968/12000 (100%)]\tLoss: 0.147049: : 375it [02:02,  3.07it/s]\n"
          ],
          "name": "stderr"
        },
        {
          "output_type": "stream",
          "text": [
            "Accuracy of the network on the 12000 test images: 89 %\n",
            "Accuracy of the network on the 1500 test images: 89 %\n"
          ],
          "name": "stdout"
        },
        {
          "output_type": "stream",
          "text": [
            "Train Epoch: 2 [11968/12000 (100%)]\tLoss: 0.390278: : 375it [02:02,  3.06it/s]\n"
          ],
          "name": "stderr"
        },
        {
          "output_type": "stream",
          "text": [
            "Accuracy of the network on the 12000 test images: 90 %\n",
            "Accuracy of the network on the 1500 test images: 89 %\n"
          ],
          "name": "stdout"
        },
        {
          "output_type": "stream",
          "text": [
            "Train Epoch: 3 [11968/12000 (100%)]\tLoss: 0.172354: : 375it [02:03,  3.03it/s]\n"
          ],
          "name": "stderr"
        },
        {
          "output_type": "stream",
          "text": [
            "Accuracy of the network on the 12000 test images: 90 %\n",
            "Accuracy of the network on the 1500 test images: 90 %\n"
          ],
          "name": "stdout"
        },
        {
          "output_type": "stream",
          "text": [
            "Train Epoch: 4 [11968/12000 (100%)]\tLoss: 0.280011: : 375it [02:03,  3.03it/s]\n"
          ],
          "name": "stderr"
        },
        {
          "output_type": "stream",
          "text": [
            "Accuracy of the network on the 12000 test images: 91 %\n",
            "Accuracy of the network on the 1500 test images: 90 %\n",
            "Finished Training\n"
          ],
          "name": "stdout"
        }
      ]
    },
    {
      "cell_type": "code",
      "metadata": {
        "id": "9qEKQv4p2pm0",
        "colab_type": "code",
        "outputId": "2fd5aee1-4978-4c61-c09a-c8c54d243ad3",
        "colab": {
          "base_uri": "https://localhost:8080/",
          "height": 34
        }
      },
      "source": [
        "report_test_resnet_2 = accuracy(covid_test, resnet18_2)"
      ],
      "execution_count": 49,
      "outputs": [
        {
          "output_type": "stream",
          "text": [
            "Accuracy of the network on the 1500 test images: 96 %\n"
          ],
          "name": "stdout"
        }
      ]
    },
    {
      "cell_type": "markdown",
      "metadata": {
        "id": "DfYKVhTJbyqW",
        "colab_type": "text"
      },
      "source": [
        "# **Training Without Freezing**"
      ]
    },
    {
      "cell_type": "markdown",
      "metadata": {
        "id": "vBgWtIN66k3A",
        "colab_type": "text"
      },
      "source": [
        "# **Defining VGG & Resnet**"
      ]
    },
    {
      "cell_type": "code",
      "metadata": {
        "id": "-ga35OmUfEBp",
        "colab_type": "code",
        "colab": {}
      },
      "source": [
        "resnet18_3 = models.resnet18(pretrained=True)\n",
        "vgg16_3 = models.vgg16(pretrained=True)"
      ],
      "execution_count": 0,
      "outputs": []
    },
    {
      "cell_type": "markdown",
      "metadata": {
        "id": "F64Pu9cB6s9x",
        "colab_type": "text"
      },
      "source": [
        "# **Removing FC Layers**"
      ]
    },
    {
      "cell_type": "code",
      "metadata": {
        "id": "_Ks-e6gk6yTb",
        "colab_type": "code",
        "colab": {}
      },
      "source": [
        "resnet3_num0_features = resnet18_3.fc.in_features\n",
        "resnet3_features = list([nn.Linear(resnet3_num0_features, 400), nn.ReLU(inplace=True), nn.Dropout(p=0.5), nn.Linear(400, len(classes))])\n",
        "\n",
        "vgg3_num0_features = vgg16_3.classifier[0].in_features\n",
        "vgg3_features = list([nn.Linear(vgg3_num0_features, 400), nn.ReLU(inplace=True), nn.Dropout(p=0.5), nn.Linear(400, len(classes))])\n",
        "\n",
        "\n",
        "resnet18_3.fc = nn.Sequential(*resnet3_features)\n",
        "vgg16_3.classifier = nn.Sequential(*vgg3_features)"
      ],
      "execution_count": 0,
      "outputs": []
    },
    {
      "cell_type": "markdown",
      "metadata": {
        "id": "FEc-0r917I3c",
        "colab_type": "text"
      },
      "source": [
        "# **Training VGG**"
      ]
    },
    {
      "cell_type": "code",
      "metadata": {
        "id": "pjtgmK7X7VHL",
        "colab_type": "code",
        "colab": {
          "base_uri": "https://localhost:8080/",
          "height": 302
        },
        "outputId": "c5e9fa5b-6cc5-43f0-b934-019567702068"
      },
      "source": [
        "report_train_vgg_3 = train_model(covid_train, model=vgg16_3, savepath='vgg16_3_entire.pth')"
      ],
      "execution_count": 56,
      "outputs": [
        {
          "output_type": "stream",
          "text": [
            "cuda:0\n"
          ],
          "name": "stdout"
        },
        {
          "output_type": "stream",
          "text": [
            "Train Epoch: 0 [11968/12000 (100%)]\tLoss: 0.299369: : 375it [02:12,  2.82it/s]\n"
          ],
          "name": "stderr"
        },
        {
          "output_type": "stream",
          "text": [
            "Accuracy of the network on the 12000 test images: 90 %\n",
            "Accuracy of the network on the 1500 test images: 89 %\n"
          ],
          "name": "stdout"
        },
        {
          "output_type": "stream",
          "text": [
            "Train Epoch: 1 [11968/12000 (100%)]\tLoss: 0.188260: : 375it [02:13,  2.81it/s]\n"
          ],
          "name": "stderr"
        },
        {
          "output_type": "stream",
          "text": [
            "Accuracy of the network on the 12000 test images: 89 %\n",
            "Accuracy of the network on the 1500 test images: 87 %\n"
          ],
          "name": "stdout"
        },
        {
          "output_type": "stream",
          "text": [
            "Train Epoch: 2 [11968/12000 (100%)]\tLoss: 0.109293: : 375it [02:12,  2.83it/s]\n"
          ],
          "name": "stderr"
        },
        {
          "output_type": "stream",
          "text": [
            "Accuracy of the network on the 12000 test images: 90 %\n",
            "Accuracy of the network on the 1500 test images: 87 %\n"
          ],
          "name": "stdout"
        },
        {
          "output_type": "stream",
          "text": [
            "Train Epoch: 3 [11968/12000 (100%)]\tLoss: 0.472911: : 375it [02:12,  2.83it/s]\n"
          ],
          "name": "stderr"
        },
        {
          "output_type": "stream",
          "text": [
            "Accuracy of the network on the 12000 test images: 91 %\n",
            "Accuracy of the network on the 1500 test images: 90 %\n"
          ],
          "name": "stdout"
        },
        {
          "output_type": "stream",
          "text": [
            "Train Epoch: 4 [11968/12000 (100%)]\tLoss: 0.243924: : 375it [02:12,  2.83it/s]\n"
          ],
          "name": "stderr"
        },
        {
          "output_type": "stream",
          "text": [
            "Accuracy of the network on the 12000 test images: 92 %\n",
            "Accuracy of the network on the 1500 test images: 90 %\n",
            "Finished Training\n"
          ],
          "name": "stdout"
        }
      ]
    },
    {
      "cell_type": "markdown",
      "metadata": {
        "id": "s0qFtHZq7NZ6",
        "colab_type": "text"
      },
      "source": [
        "# **Training Resnet**"
      ]
    },
    {
      "cell_type": "code",
      "metadata": {
        "id": "DUbD0FT17TO6",
        "colab_type": "code",
        "colab": {
          "base_uri": "https://localhost:8080/",
          "height": 302
        },
        "outputId": "5be6f9b3-a16d-4e6b-a07d-c9c2c5109019"
      },
      "source": [
        "report_train_resnet_3 = train_model(covid_train, model=resnet18_3, savepath='resnet18_3_entire.pth')"
      ],
      "execution_count": 58,
      "outputs": [
        {
          "output_type": "stream",
          "text": [
            "cuda:0\n"
          ],
          "name": "stdout"
        },
        {
          "output_type": "stream",
          "text": [
            "Train Epoch: 0 [11968/12000 (100%)]\tLoss: 0.219210: : 375it [02:02,  3.06it/s]\n"
          ],
          "name": "stderr"
        },
        {
          "output_type": "stream",
          "text": [
            "Accuracy of the network on the 12000 test images: 88 %\n",
            "Accuracy of the network on the 1500 test images: 88 %\n"
          ],
          "name": "stdout"
        },
        {
          "output_type": "stream",
          "text": [
            "Train Epoch: 1 [11968/12000 (100%)]\tLoss: 0.194779: : 375it [02:03,  3.05it/s]\n"
          ],
          "name": "stderr"
        },
        {
          "output_type": "stream",
          "text": [
            "Accuracy of the network on the 12000 test images: 89 %\n",
            "Accuracy of the network on the 1500 test images: 89 %\n"
          ],
          "name": "stdout"
        },
        {
          "output_type": "stream",
          "text": [
            "Train Epoch: 2 [11968/12000 (100%)]\tLoss: 0.196546: : 375it [02:02,  3.05it/s]\n"
          ],
          "name": "stderr"
        },
        {
          "output_type": "stream",
          "text": [
            "Accuracy of the network on the 12000 test images: 90 %\n",
            "Accuracy of the network on the 1500 test images: 88 %\n"
          ],
          "name": "stdout"
        },
        {
          "output_type": "stream",
          "text": [
            "Train Epoch: 3 [11968/12000 (100%)]\tLoss: 0.219647: : 375it [02:03,  3.04it/s]\n"
          ],
          "name": "stderr"
        },
        {
          "output_type": "stream",
          "text": [
            "Accuracy of the network on the 12000 test images: 90 %\n",
            "Accuracy of the network on the 1500 test images: 89 %\n"
          ],
          "name": "stdout"
        },
        {
          "output_type": "stream",
          "text": [
            "Train Epoch: 4 [11968/12000 (100%)]\tLoss: 0.359580: : 375it [02:02,  3.06it/s]\n"
          ],
          "name": "stderr"
        },
        {
          "output_type": "stream",
          "text": [
            "Accuracy of the network on the 12000 test images: 91 %\n",
            "Accuracy of the network on the 1500 test images: 90 %\n",
            "Finished Training\n"
          ],
          "name": "stdout"
        }
      ]
    },
    {
      "cell_type": "markdown",
      "metadata": {
        "id": "fmxnw63a7WDF",
        "colab_type": "text"
      },
      "source": [
        "# **Accuracy of vgg & Resnet**"
      ]
    },
    {
      "cell_type": "code",
      "metadata": {
        "id": "Xsr3fb0S7e1R",
        "colab_type": "code",
        "colab": {
          "base_uri": "https://localhost:8080/",
          "height": 50
        },
        "outputId": "c756012d-fae1-452b-fb63-9b1660fbd904"
      },
      "source": [
        "report_test_vgg_3 = accuracy(covid_test, vgg16_3)\n",
        "report_test_resnet_3 = accuracy(covid_test, resnet18_3)"
      ],
      "execution_count": 59,
      "outputs": [
        {
          "output_type": "stream",
          "text": [
            "Accuracy of the network on the 1500 test images: 96 %\n",
            "Accuracy of the network on the 1500 test images: 95 %\n"
          ],
          "name": "stdout"
        }
      ]
    },
    {
      "cell_type": "markdown",
      "metadata": {
        "id": "6QzT9kOW8-5Q",
        "colab_type": "text"
      },
      "source": [
        "# **Summarizing**"
      ]
    },
    {
      "cell_type": "code",
      "metadata": {
        "id": "MjsPFVPM9CRi",
        "colab_type": "code",
        "colab": {}
      },
      "source": [
        "def display_curves(training, validation, title, subplot):\n",
        "  ax = plt.subplot(subplot)\n",
        "  ax.plot(training)\n",
        "  ax.plot(validation)\n",
        "  ax.set_title('model '+ title)\n",
        "  ax.set_ylabel(title)\n",
        "  ax.set_xlabel('epoch')\n",
        "  ax.legend(['training', 'validation'])\n"
      ],
      "execution_count": 0,
      "outputs": []
    },
    {
      "cell_type": "code",
      "metadata": {
        "id": "Jdo0-vpC9G-Y",
        "colab_type": "code",
        "colab": {}
      },
      "source": [
        "def calculate_F1(TP, TN, FP, FN):\n",
        "  precision = TP/ (TP+FP)\n",
        "  recall = TP/ (TP+FN)\n",
        "  f1 = 2 * (precision * recall) / (precision + recall)\n",
        "  print('Precision: {:.2f}, Recall: {:.2f}, F1: {:.2f}'.format(precision, recall, f1))\n",
        "  "
      ],
      "execution_count": 0,
      "outputs": []
    },
    {
      "cell_type": "code",
      "metadata": {
        "id": "eycutd32-7h5",
        "colab_type": "code",
        "colab": {
          "base_uri": "https://localhost:8080/",
          "height": 674
        },
        "outputId": "a80b0da9-9d07-4f0e-b40a-510caa7fefd4"
      },
      "source": [
        "plt.subplots(figsize=(10,10))\n",
        "plt.tight_layout()\n",
        "display_curves(report_train_vgg[0]['train'],report_train_vgg[0]['valid'], 'Accuracy', 211 )\n",
        "display_curves(report_train_vgg[1]['train'],report_train_vgg[1]['valid'], 'Loss', 212 )"
      ],
      "execution_count": 35,
      "outputs": [
        {
          "output_type": "display_data",
          "data": {
            "image/png": "[encoded data removed]",
            "text/plain": [
              "<Figure size 720x720 with 2 Axes>"
            ]
          },
          "metadata": {
            "tags": [],
            "needs_background": "light"
          }
        }
      ]
    },
    {
      "cell_type": "code",
      "metadata": {
        "id": "ZcsuIaqWD2Mg",
        "colab_type": "code",
        "colab": {
          "base_uri": "https://localhost:8080/",
          "height": 674
        },
        "outputId": "56571813-0b4a-4464-b3c4-91183bcbda5b"
      },
      "source": [
        "plt.subplots(figsize=(10,10))\n",
        "plt.tight_layout()\n",
        "display_curves(report_train_resnet[0]['train'],report_train_resnet[0]['valid'], 'Accuracy', 211 )\n",
        "display_curves(report_train_resnet[1]['train'],report_train_resnet[1]['valid'], 'Loss', 212 )"
      ],
      "execution_count": 44,
      "outputs": [
        {
          "output_type": "display_data",
          "data": {
            "image/png": "[encoded data removed]",
            "text/plain": [
              "<Figure size 720x720 with 2 Axes>"
            ]
          },
          "metadata": {
            "tags": [],
            "needs_background": "light"
          }
        }
      ]
    },
    {
      "cell_type": "code",
      "metadata": {
        "id": "eE7fV1LT_2H1",
        "colab_type": "code",
        "colab": {
          "base_uri": "https://localhost:8080/",
          "height": 50
        },
        "outputId": "a14a9e43-ea36-48ca-fa9a-472bb0d4bf3f"
      },
      "source": [
        "calculate_F1(report_test_vgg[2], report_test_vgg[3], report_test_vgg[4], report_test_vgg[5])\n",
        "calculate_F1(report_test_resnet[2], report_test_resnet[3], report_test_resnet[4], report_test_resnet[5])"
      ],
      "execution_count": 42,
      "outputs": [
        {
          "output_type": "stream",
          "text": [
            "Precsion: 0.95, Recall: 0.99, F1: 0.97\n",
            "Precsion: 0.95, Recall: 0.98, F1: 0.96\n"
          ],
          "name": "stdout"
        }
      ]
    },
    {
      "cell_type": "code",
      "metadata": {
        "id": "utLlPIfoC6Ea",
        "colab_type": "code",
        "colab": {
          "base_uri": "https://localhost:8080/",
          "height": 50
        },
        "outputId": "51326eb2-5e55-4aac-9eee-486b9fb02dff"
      },
      "source": [
        "print(report_test_vgg)\n",
        "print(report_test_resnet)"
      ],
      "execution_count": 43,
      "outputs": [
        {
          "output_type": "stream",
          "text": [
            "(96.2, 0.12127179953646153, 879, 564, 51, 6)\n",
            "(95.8, 0.13872070919643056, 864, 573, 42, 21)\n"
          ],
          "name": "stdout"
        }
      ]
    },
    {
      "cell_type": "code",
      "metadata": {
        "id": "A7Ke5XfGDpmq",
        "colab_type": "code",
        "colab": {
          "base_uri": "https://localhost:8080/",
          "height": 674
        },
        "outputId": "e74f81a5-813a-44f7-f29f-98276abd5dce"
      },
      "source": [
        "plt.subplots(figsize=(10,10))\n",
        "plt.tight_layout()\n",
        "display_curves(report_train_vgg_2[0]['train'],report_train_vgg_2[0]['valid'], 'Accuracy', 211 )\n",
        "display_curves(report_train_vgg_2[1]['train'],report_train_vgg_2[1]['valid'], 'Loss', 212 )"
      ],
      "execution_count": 50,
      "outputs": [
        {
          "output_type": "display_data",
          "data": {
            "image/png": "[encoded data removed]",
            "text/plain": [
              "<Figure size 720x720 with 2 Axes>"
            ]
          },
          "metadata": {
            "tags": [],
            "needs_background": "light"
          }
        }
      ]
    },
    {
      "cell_type": "code",
      "metadata": {
        "id": "jE4fXHyFEZJI",
        "colab_type": "code",
        "colab": {
          "base_uri": "https://localhost:8080/",
          "height": 674
        },
        "outputId": "8213df4c-5be7-4ecc-8e7f-a36ab024d9e7"
      },
      "source": [
        "plt.subplots(figsize=(10,10))\n",
        "plt.tight_layout()\n",
        "display_curves(report_train_resnet_2[0]['train'],report_train_resnet_2[0]['valid'], 'Accuracy', 211 )\n",
        "display_curves(report_train_resnet_2[1]['train'],report_train_resnet_2[1]['valid'], 'Loss', 212 )"
      ],
      "execution_count": 51,
      "outputs": [
        {
          "output_type": "display_data",
          "data": {
            "image/png": "[encoded data removed]",
            "text/plain": [
              "<Figure size 720x720 with 2 Axes>"
            ]
          },
          "metadata": {
            "tags": [],
            "needs_background": "light"
          }
        }
      ]
    },
    {
      "cell_type": "code",
      "metadata": {
        "id": "pUkey0lPEjA9",
        "colab_type": "code",
        "colab": {
          "base_uri": "https://localhost:8080/",
          "height": 50
        },
        "outputId": "bbdecd1c-55b8-4ba9-ade2-131ea1f4673e"
      },
      "source": [
        "calculate_F1(report_test_vgg_2[2], report_test_vgg_2[3], report_test_vgg_2[4], report_test_vgg_2[5])\n",
        "calculate_F1(report_test_resnet_2[2], report_test_resnet_2[3], report_test_resnet_2[4], report_test_resnet_2[5])"
      ],
      "execution_count": 52,
      "outputs": [
        {
          "output_type": "stream",
          "text": [
            "Precsion: 0.97, Recall: 0.99, F1: 0.98\n",
            "Precsion: 0.96, Recall: 0.98, F1: 0.97\n"
          ],
          "name": "stdout"
        }
      ]
    },
    {
      "cell_type": "code",
      "metadata": {
        "id": "ypGWXa-PEtPv",
        "colab_type": "code",
        "colab": {
          "base_uri": "https://localhost:8080/",
          "height": 50
        },
        "outputId": "2fd8c8af-9bec-4a62-f22d-47056f8350d0"
      },
      "source": [
        "print(report_test_vgg_2)\n",
        "print(report_test_resnet_2)"
      ],
      "execution_count": 53,
      "outputs": [
        {
          "output_type": "stream",
          "text": [
            "(97.06666666666666, 0.09755113863564552, 872, 584, 31, 13)\n",
            "(96.33333333333333, 0.12165883445042244, 866, 579, 36, 19)\n"
          ],
          "name": "stdout"
        }
      ]
    },
    {
      "cell_type": "code",
      "metadata": {
        "id": "pE-7TMYtE7op",
        "colab_type": "code",
        "colab": {
          "base_uri": "https://localhost:8080/",
          "height": 755
        },
        "outputId": "49cfcc0f-3292-431d-da2a-abc555ad84b0"
      },
      "source": [
        "plt.subplots(figsize=(10,10))\n",
        "plt.tight_layout()\n",
        "display_curves(report_train_vgg_3[0]['train'],report_train_vgg_3[0]['valid'], 'Accuracy', 211 )\n",
        "display_curves(report_train_vgg_3[1]['train'],report_train_vgg_3[1]['valid'], 'Loss', 212 )"
      ],
      "execution_count": 57,
      "outputs": [
        {
          "output_type": "display_data",
          "data": {
            "image/png": "[encoded data removed]",
            "text/plain": [
              "<Figure size 720x720 with 2 Axes>"
            ]
          },
          "metadata": {
            "tags": [],
            "needs_background": "light"
          }
        }
      ]
    },
    {
      "cell_type": "code",
      "metadata": {
        "id": "HF6X2zAfE_fd",
        "colab_type": "code",
        "colab": {
          "base_uri": "https://localhost:8080/",
          "height": 674
        },
        "outputId": "12347e98-92fa-4e5f-9150-518c28d6490e"
      },
      "source": [
        "plt.subplots(figsize=(10,10))\n",
        "plt.tight_layout()\n",
        "display_curves(report_train_resnet_3[0]['train'],report_train_resnet_3[0]['valid'], 'Accuracy', 211 )\n",
        "display_curves(report_train_resnet_3[1]['train'],report_train_resnet_3[1]['valid'], 'Loss', 212 )"
      ],
      "execution_count": 60,
      "outputs": [
        {
          "output_type": "display_data",
          "data": {
            "image/png": "[encoded data removed]",
            "text/plain": [
              "<Figure size 720x720 with 2 Axes>"
            ]
          },
          "metadata": {
            "tags": [],
            "needs_background": "light"
          }
        }
      ]
    },
    {
      "cell_type": "code",
      "metadata": {
        "id": "XzDBBDYEFMA_",
        "colab_type": "code",
        "colab": {
          "base_uri": "https://localhost:8080/",
          "height": 50
        },
        "outputId": "1ba54767-a6d0-468e-ef74-e0df99e20c27"
      },
      "source": [
        "calculate_F1(report_test_vgg_3[2], report_test_vgg_3[3], report_test_vgg_3[4], report_test_vgg_3[5])\n",
        "calculate_F1(report_test_resnet_3[2], report_test_resnet_3[3], report_test_resnet_3[4], report_test_resnet_3[5])"
      ],
      "execution_count": 61,
      "outputs": [
        {
          "output_type": "stream",
          "text": [
            "Precsion: 0.96, Recall: 0.99, F1: 0.97\n",
            "Precsion: 0.95, Recall: 0.98, F1: 0.96\n"
          ],
          "name": "stdout"
        }
      ]
    },
    {
      "cell_type": "code",
      "metadata": {
        "id": "jUFKKxgmFVzA",
        "colab_type": "code",
        "colab": {
          "base_uri": "https://localhost:8080/",
          "height": 50
        },
        "outputId": "bf21b0e5-ec9a-4922-ae81-454386c9f599"
      },
      "source": [
        "print(report_test_vgg_3)\n",
        "print(report_test_resnet_3)"
      ],
      "execution_count": 62,
      "outputs": [
        {
          "output_type": "stream",
          "text": [
            "(96.93333333333334, 0.1079718844687685, 876, 578, 37, 9)\n",
            "(95.73333333333333, 0.1364778919105834, 867, 569, 46, 18)\n"
          ],
          "name": "stdout"
        }
      ]
    },
    {
      "cell_type": "code",
      "metadata": {
        "id": "-Zujhw9FT0S-",
        "colab_type": "code",
        "colab": {}
      },
      "source": [
        ""
      ],
      "execution_count": 0,
      "outputs": []
    }
  ]
}